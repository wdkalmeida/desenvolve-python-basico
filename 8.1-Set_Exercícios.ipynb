{
 "cells": [
  {
   "cell_type": "markdown",
   "id": "0d5035b5",
   "metadata": {},
   "source": [
    "# Set\n",
    "\n",
    "## Aula 8.1"
   ]
  },
  {
   "cell_type": "markdown",
   "id": "0bdece85",
   "metadata": {},
   "source": [
    "### Q1. \n",
    "\n",
    "Dada uma string qualquer, use seu conhecimento de sets para apresentar os caracteres únicos que aparecem na string, ordenados alfabeticamente e sem duplicatas. Preste atenção em duplicatas de maiúsculas e minúsculas.\n"
   ]
  },
  {
   "cell_type": "code",
   "execution_count": 17,
   "id": "0a258eba",
   "metadata": {},
   "outputs": [
    {
     "name": "stdout",
     "output_type": "stream",
     "text": [
      " !cehilnoprtvyéí\n"
     ]
    }
   ],
   "source": [
    "frase = \"O rato roeu a roupa do Robson\"\n",
    "\n",
    "## Implemente aqui sua solução\n",
    "def caracteres_unicos(string):\n",
    "    string = string.lower()  # Converte tudo para minúsculas\n",
    "    caracteres = set(string)  # Cria um conjunto com os caracteres únicos\n",
    "    caracteres_ordenados = sorted(caracteres)  # Ordena os caracteres em ordem alfabética\n",
    "    return \"\".join(caracteres_ordenados)  # Junta os caracteres de volta em uma string\n",
    "\n",
    "# Testando a função\n",
    "entrada = \"Python é incrível!\"\n",
    "resultado = caracteres_unicos(entrada)\n",
    "print(resultado)\n",
    "\n"
   ]
  },
  {
   "cell_type": "markdown",
   "id": "0856bd56",
   "metadata": {},
   "source": [
    "### Q2\n",
    "\n",
    "Desenvolva uma função em Python chamada ```tem_elementos_comuns()``` que recebe duas listas como parâmetros e retorna True se houver algum elemento comum entre as duas listas, e False caso contrário. Utilize sets para resolver essa tarefa."
   ]
  },
  {
   "cell_type": "code",
   "execution_count": null,
   "id": "f7ab6736",
   "metadata": {},
   "outputs": [
    {
     "name": "stdout",
     "output_type": "stream",
     "text": [
      "True\n"
     ]
    }
   ],
   "source": [
    "# Implemente aqui a função tem_elementos_comuns()\n",
    "def tem_elementos_comuns(lista1, lista2):\n",
    "    # Converte as listas em conjuntos (sets)\n",
    "    set1 = set(lista1)\n",
    "    set2 = set(lista2)\n",
    "    \n",
    "    # Verifica se há interseção entre os dois conjuntos\n",
    "    return not set1.isdisjoint(set2)\n",
    "\n",
    "# Definir lista para teste\n",
    "lista1 = [1, 2, 3, 4]\n",
    "lista2 = [3, 4, 5, 6, 7]\n",
    "\n",
    "print(tem_elementos_comuns(lista1, lista2))  # Saída: True\n",
    "\n"
   ]
  },
  {
   "cell_type": "code",
   "execution_count": 19,
   "id": "1022744a",
   "metadata": {},
   "outputs": [
    {
     "name": "stdout",
     "output_type": "stream",
     "text": [
      "True\n"
     ]
    }
   ],
   "source": [
    "# Execute esta célula para testar a função da Q2.\n",
    "\n",
    "lista1 = [1, 2, 3, 4]\n",
    "lista2 = [3, 4, 5, 6, 7]\n",
    "resultado = tem_elementos_comuns(lista1, lista2)\n",
    "print(resultado)  # Saída esperada: True"
   ]
  },
  {
   "cell_type": "markdown",
   "id": "649a5082",
   "metadata": {},
   "source": [
    "### Q3. \n",
    "\n",
    "Você vai coletar de diferentes turmas de alunos seus interesses em atividades extra curriculares dentre futebol, vôlei, rugby, música, teatro, ações comunitárias. Informe o conjunto de atividades comuns a todas a turmas. Pode preencher o iterável turmas com valores arbitrários. \n"
   ]
  },
  {
   "cell_type": "code",
   "execution_count": 20,
   "id": "880a9927",
   "metadata": {},
   "outputs": [
    {
     "name": "stdout",
     "output_type": "stream",
     "text": [
      "atividades comuns a todas as turmas {'rugby'}\n"
     ]
    }
   ],
   "source": [
    "turmas = [\n",
    "     {'ações comunitárias', 'futebol', 'música', 'rugby'},\n",
    "     {'ações comunitárias', 'música', 'rugby', 'teatro'},\n",
    "     {'música', 'rugby', 'teatro', 'vôlei'},\n",
    "     {'música', 'vôlei', 'rugby'},\n",
    "     {'ações comunitárias', 'futebol', 'rugby', 'teatro', 'vôlei'},\n",
    "     {'ações comunitárias', 'futebol', 'rugby'},\n",
    "     {'ações comunitárias', 'rugby', 'teatro', 'vôlei'},\n",
    "     {'ações comunitárias', 'rugby', 'teatro', 'vôlei'},\n",
    "     {'ações comunitárias', 'rugby', 'vôlei'}\n",
    "]\n",
    "\n",
    "## Implemente aqui sua solução\n",
    "# Encontra uma atividade em comum entre todas as turmas\n",
    "\n",
    "atividades_comum = set.intersection(*turmas)\n",
    "\n",
    "# Imprimindo os resultados\n",
    "\n",
    "print(\"atividades comuns a todas as turmas\" , atividades_comum)\n"
   ]
  },
  {
   "cell_type": "markdown",
   "id": "021e2b1e",
   "metadata": {},
   "source": [
    "### Q4. \n",
    "Considere duas listas que são duplicatas uma da outra, exceto por um elemento, exemplo:\n",
    "```\n",
    "A = [1, 4, 5, 7, 9]\n",
    "B = [4, 5, 7, 9]\n",
    "```\n",
    "\n",
    "Encontre e apresente o elemento diferente, informando também qual das listas está desfalcada. Para o exemplo acima, a saída esperada é\n",
    "```\n",
    "O elemento 1 está faltando na segunda lista\n",
    "```"
   ]
  },
  {
   "cell_type": "code",
   "execution_count": 21,
   "id": "608761a4",
   "metadata": {},
   "outputs": [
    {
     "name": "stdout",
     "output_type": "stream",
     "text": [
      "O elemento 1 está faltando na segunda lista.\n"
     ]
    }
   ],
   "source": [
    "## Implemente aqui sua solução\n",
    "\n",
    "def encontrar_elemento_faltante(A, B):\n",
    "    # Transformamos as listas em conjuntos (sets)\n",
    "    set_A = set(A)\n",
    "    set_B = set(B)\n",
    "\n",
    "    # Descobrimos o número que está na primeira lista, mas não na segunda\n",
    "    diferenca = set_A - set_B\n",
    "\n",
    "    # Pegamos o único número da diferença\n",
    "    elemento_faltando = diferenca.pop()\n",
    "\n",
    "    # Exibimos o resultado\n",
    "    print(f\"O elemento {elemento_faltando} está faltando na segunda lista.\")\n",
    "\n",
    "# Exemplo de uso\n",
    "A = [1, 4, 5, 7, 9]\n",
    "B = [4, 5, 7, 9]\n",
    "\n",
    "encontrar_elemento_faltante(A, B)\n",
    "\n"
   ]
  },
  {
   "cell_type": "markdown",
   "id": "ddf180c1",
   "metadata": {},
   "source": [
    "### Q5.\n",
    "\n",
    "Panagramas são frases que contém todas as letras do alfabeto pelo menos uma vez. Crie uma função ```checa_panagrama``` que recebe uma string e retorna ```True``` caso seja um panagrama ou ```False```caso contrário. Use seu conhecimento de sets para solucionar essa questão.\n",
    "\n",
    "Ex: \n",
    "```\n",
    "Entrada: \"The quick brown fox jumps over the lazy dog\" \n",
    "Saída: É um panagrama\n",
    "```\n",
    "\n",
    "```\n",
    "Entrada: \"Python é uma linguagem de programação\" \n",
    "Saída: Não é um panagrama\n",
    "```"
   ]
  },
  {
   "cell_type": "code",
   "execution_count": 22,
   "id": "4e8b0390",
   "metadata": {},
   "outputs": [
    {
     "name": "stdout",
     "output_type": "stream",
     "text": [
      "É um panagrama\n",
      "Não é um panagrama\n"
     ]
    }
   ],
   "source": [
    "## Implemente aqui sua solução\n",
    "import string\n",
    "\n",
    "def checa_panagrama(frase):\n",
    "    # Transformamos a frase em letras minúsculas para evitar problemas com maiúsculas e minúsculas\n",
    "    frase = frase.lower()\n",
    "\n",
    "    # Criamos um conjunto com todas as letras do alfabeto\n",
    "    alfabeto = set(string.ascii_lowercase)\n",
    "\n",
    "    # Criamos um conjunto com as letras da frase\n",
    "    letras_da_frase = set(frase)\n",
    "\n",
    "    # Verificamos se todas as letras do alfabeto estão na frase\n",
    "    if alfabeto.issubset(letras_da_frase):\n",
    "        print(\"É um panagrama\")\n",
    "    else:\n",
    "        print(\"Não é um panagrama\")\n",
    "\n",
    "# Exemplos de uso\n",
    "checa_panagrama(\"The quick brown fox jumps over the lazy dog\")  # Saída: É um panagrama\n",
    "checa_panagrama(\"Python é uma linguagem de programação\")  # Saída: Não é um panagrama\n"
   ]
  }
 ],
 "metadata": {
  "kernelspec": {
   "display_name": "Python 3",
   "language": "python",
   "name": "python3"
  },
  "language_info": {
   "codemirror_mode": {
    "name": "ipython",
    "version": 3
   },
   "file_extension": ".py",
   "mimetype": "text/x-python",
   "name": "python",
   "nbconvert_exporter": "python",
   "pygments_lexer": "ipython3",
   "version": "3.12.2"
  }
 },
 "nbformat": 4,
 "nbformat_minor": 5
}
