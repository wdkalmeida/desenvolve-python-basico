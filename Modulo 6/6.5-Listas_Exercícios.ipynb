{
 "cells": [
  {
   "cell_type": "markdown",
   "id": "0d5035b5",
   "metadata": {},
   "source": [
    "# Listas\n",
    "\n",
    "## Aulas 6.1 a 6.5 "
   ]
  },
  {
   "cell_type": "markdown",
   "id": "0bdece85",
   "metadata": {},
   "source": [
    "### Q1. \n",
    "\n",
    "Usando a função embutida ```map``` e criando uma função ```lambda```, transforme uma lista com os raios de múltiplas circunferências em uma nova lista com as respectivas áreas. O cálculo de cada área é dado por: ```pi*(raio**2)```\n",
    "- Use a constante pi da biblioteca math \n",
    "- Arredonde o resultado para 2 casas decimais\n"
   ]
  },
  {
   "cell_type": "code",
   "execution_count": 3,
   "id": "9886aa96",
   "metadata": {},
   "outputs": [
    {
     "name": "stdout",
     "output_type": "stream",
     "text": [
      "Raios: [1.5, 0.8, 2.3, 5.0]\n",
      "Areas: [7.07, 2.01, 16.62, 78.54]\n"
     ]
    }
   ],
   "source": [
    "## Complete a solução\n",
    "#Imprtando a biblioteca math\n",
    "import math\n",
    "\n",
    "#Definindo a função Lambda\n",
    "area = lambda raio: round(math.pi * (raio**2), 2)\n",
    "\n",
    "#definindo a lista de raios\n",
    "raios = [1.5, 0.8, 2.3, 5.0]\n",
    "\n",
    "#Utilizando a funcao map para aplicar a funcao area a cada elemento da lista raios\n",
    "areas = list(map(area, raios))\n",
    "## Complete a solução\n",
    "#Imprimindo resultados\n",
    "print(\"Raios:\", raios)\n",
    "print(\"Areas:\", areas)"
   ]
  },
  {
   "cell_type": "markdown",
   "id": "649a5082",
   "metadata": {},
   "source": [
    "### Q2. \n",
    "\n",
    "Crie uma função customizada e aplique a função embutida ```filter``` para operar em uma lista de listas contendo os lados de múltiplos triângulos. Construa uma nova lista contendo apenas os triângulos equiláteros, ou seja, com os três lados iguais.\n"
   ]
  },
  {
   "cell_type": "code",
   "execution_count": 4,
   "id": "47cb0573",
   "metadata": {},
   "outputs": [
    {
     "name": "stdout",
     "output_type": "stream",
     "text": [
      "Triângulos originais:  [[2, 2, 2], [3, 4, 5], [3, 2, 2], [4, 4, 4]]\n",
      "Triângulos equilateros:  [[2, 2, 2], [4, 4, 4]]\n"
     ]
    }
   ],
   "source": [
    "## Crie a função customizada\n",
    "def testa_equilatero(lados):\n",
    "    return lados[0] == lados[1] == lados[2]\n",
    "\n",
    "### Usando filter, aplique a função customizada aos seguintes triangulos\n",
    "triangulos  = [[2,2,2], [3,4,5], [3,2,2],[4,4,4]]\n",
    "\n",
    "triangulos_equilateros = list(filter(testa_equilatero, triangulos))\n",
    "\n",
    "### Imprima o resultado\n",
    "print(\"Triângulos originais: \",list(triangulos))\n",
    "print(\"Triângulos equilateros: \",list(triangulos_equilateros))\n"
   ]
  },
  {
   "cell_type": "markdown",
   "id": "bb62d219",
   "metadata": {},
   "source": [
    "### Q3. \n",
    "Crie uma função chamada ```ordena_por_comprimento``` que aceite uma lista de strings e a ordene com base no comprimento das strings, do menor para o maior. Utilize a função ```sorte``` e uma expressão ```lambda```."
   ]
  },
  {
   "cell_type": "code",
   "execution_count": 11,
   "id": "70b5666d",
   "metadata": {},
   "outputs": [
    {
     "name": "stdout",
     "output_type": "stream",
     "text": [
      "['Sol', 'Joao', 'Jose', 'Luna', 'Enzo', 'Maria', 'Bento', 'Gabriela', 'Fernanda']\n"
     ]
    }
   ],
   "source": [
    "### crie a função ordena_por_comprimento e retorne a lista resultado\n",
    "def ordena_por_comprimento(nomes):\n",
    "    # Implemente sua solução aqui\n",
    "    nomes.sort(key=lambda x: len(x))\n",
    "    return nomes\n",
    "### aplique sua função à seguinte lista e imprima o resultado\n",
    "nomes = [\"Joao\", \"Maria\", \"Jose\", \"Gabriela\", \"Sol\", \"Luna\", \"Bento\", \"Enzo\", \"Fernanda\"]\n",
    "print(ordena_por_comprimento(nomes))"
   ]
  },
  {
   "cell_type": "markdown",
   "id": "8710b1a7",
   "metadata": {},
   "source": [
    "### Q4.\n",
    "\n",
    "Crie uma lista de listas (uma matriz de 2 dimensões) de tamanho $n \\times n$, com $n$ dado pelo usuário. Cada elemento da matriz deve ser o produto dos índices da linha pela coluna.\n",
    "\n",
    "Exemplo:\n",
    "```\n",
    "Digite n: 4\n",
    "Matriz:\n",
    "[[0, 0, 0, 0],\n",
    " [0, 1, 2, 3],\n",
    " [0, 2, 4, 6],\n",
    " [0, 3, 6, 9]]\n",
    "```"
   ]
  },
  {
   "cell_type": "code",
   "execution_count": 2,
   "id": "0b7ee921",
   "metadata": {},
   "outputs": [
    {
     "name": "stdout",
     "output_type": "stream",
     "text": [
      "Matriz:\n",
      "[0, 0, 0, 0]\n",
      "[0, 1, 2, 3]\n",
      "[0, 2, 4, 6]\n",
      "[0, 3, 6, 9]\n"
     ]
    }
   ],
   "source": [
    "# Implemente sua solução aqui\n",
    "# Solicitar o valor de n ao usuário\n",
    "n = int(input(\"Digite o tamanho n da matriz: \"))\n",
    "\n",
    "# Gerar a matriz usando listas de listas\n",
    "matriz = [[linha * coluna for coluna in range(n)] for linha in range(n)]\n",
    "\n",
    "# Exibir a matriz\n",
    "print(\"Matriz:\")\n",
    "for linha in matriz:\n",
    "    print(linha)"
   ]
  },
  {
   "cell_type": "markdown",
   "id": "f41781df",
   "metadata": {},
   "source": [
    "### Q5.\n",
    "\n",
    "Dada uma lista de números inteiros, implemente uma função em Python chamada ```pares_unicos``` que encontre e retorne todos os pares únicos de elementos na lista cuja soma seja igual a um determinado valor. Considere que a ordem dos pares não é relevante."
   ]
  },
  {
   "cell_type": "code",
   "execution_count": 17,
   "id": "7a76f765",
   "metadata": {},
   "outputs": [
    {
     "name": "stdout",
     "output_type": "stream",
     "text": [
      "[(-1, 7), (2, 4), (1, 5)]\n"
     ]
    }
   ],
   "source": [
    "# Implemente sua solução aqui\n",
    "def pares_unicos(lista, valor_soma):\n",
    "    # Usamos um conjunto para armazenar pares únicos\n",
    "    pares = set()\n",
    "    # Usamos outro conjunto para armazenar números já vistos\n",
    "    vistos = set()\n",
    "\n",
    "    for numero in lista:\n",
    "        complemento = valor_soma - numero\n",
    "        # Se o complemento já foi visto, temos um par\n",
    "        if complemento in vistos:\n",
    "            # Adicionamos o par em ordem crescente para evitar duplicados\n",
    "            pares.add(tuple(sorted((numero, complemento))))\n",
    "        # Adicionamos o número atual ao conjunto de vistos\n",
    "        vistos.add(numero)\n",
    "\n",
    "    # Convertendo o conjunto de pares para uma lista e retornando\n",
    "    return list(pares)\n",
    "\n",
    "# Exemplo de uso\n",
    "numeros = [1, 5, 7, -1, 5, 2, 3, 4, 6]\n",
    "valor = 6\n",
    "resultado = pares_unicos(numeros, valor)\n",
    "print(resultado)\n"
   ]
  },
  {
   "cell_type": "markdown",
   "id": "87e44893",
   "metadata": {},
   "source": [
    "### Q5.\n",
    "\n",
    "Escreva um programa para encontrar a diferença entre duas listas, incluindo elementos duplicados.\n",
    "\n",
    "Ex:\n",
    "```\n",
    "Listas originais: \n",
    "[1, 1, 2, 3, 3, 4, 4, 5, 6, 7]\n",
    "[1, 1, 2, 4, 5, 6]\n",
    "Diferença entre as listas:\n",
    "[3, 3, 4, 7]\n",
    "```"
   ]
  },
  {
   "cell_type": "code",
   "execution_count": 15,
   "id": "cd9fef5d",
   "metadata": {},
   "outputs": [
    {
     "name": "stdout",
     "output_type": "stream",
     "text": [
      "Diferença: [1, 2, 3, 5]\n"
     ]
    }
   ],
   "source": [
    "# Implemente sua solução aqui\n",
    "def diferenca_listas(lista1, lista2):\n",
    "    #Retorna a diferença entre duas listas, preservando duplicatas.\n",
    "\n",
    "    # Copiamos a lista1 para preservá-la enquanto removemos os elementos\n",
    "    resultado = lista1[:]\n",
    "    for elemento in lista2:\n",
    "        if elemento in resultado:\n",
    "            resultado.remove(elemento)\n",
    "    return resultado\n",
    "\n",
    "# Exemplo de uso\n",
    "lista1 = [1, 2, 2, 3, 4, 5]\n",
    "lista2 = [2, 4, 6]\n",
    "resultado = diferenca_listas(lista1, lista2)\n",
    "print(\"Diferença:\", resultado)\n"
   ]
  },
  {
   "cell_type": "markdown",
   "id": "f4c4236d",
   "metadata": {},
   "source": [
    "### Q6.\n",
    "\n",
    "Dada uma lista aleatória, escreva um programa que separa os valores em listas menores de acordo com o tamanho solicitado. Caso não seja possível repartir igualmente a lista original, a última sublista deve conter os elementos remanescentes, como indicado no exemplo a seguir.\n",
    "\n",
    "Note que seu programa deve continuar executando em um laço infinito até que o usuário informe o tamanho 0 na entrada solicitada.\n",
    "\n",
    "```\n",
    "Lista original:\n",
    "[12, 45, 23, 67, 78, 90, 45, 32, 100, 76, 38, 62, 73, 29, 83]\n",
    "\n",
    "Tamanho para divisão: 3\n",
    "Subslistas:\n",
    "[[12, 45, 23], [67, 78, 90], [45, 32, 100], [76, 38, 62], [73, 29, 83]]\n",
    "\n",
    "Tamanho para divisão: 4\n",
    "Subslistas: [[12, 45, 23, 67], [78, 90, 45, 32], [100, 76, 38, 62], [73, 29, 83]]\n",
    "\n",
    "Tamanho para divisão: 0\n",
    "```"
   ]
  },
  {
   "cell_type": "code",
   "execution_count": 7,
   "id": "792563de",
   "metadata": {},
   "outputs": [
    {
     "name": "stdout",
     "output_type": "stream",
     "text": [
      "Lista original:\n",
      "[12, 45, 23, 67, 78, 90, 45, 32, 100, 76, 38, 62, 73, 29, 83]\n",
      "Sublistas:\n",
      "[[12, 45, 23], [67, 78, 90], [45, 32, 100], [76, 38, 62], [73, 29, 83]]\n",
      "Sublistas:\n",
      "[[12, 45, 23, 67], [78, 90, 45, 32], [100, 76, 38, 62], [73, 29, 83]]\n",
      "Programa encerrado.\n"
     ]
    }
   ],
   "source": [
    "import random\n",
    "lista = [random.randint(1,100) for i in range(20)]\n",
    "\n",
    "# Implemente sua solução aqui\n",
    "def dividir_lista(lista, tamanho):\n",
    "    return [lista[i:i + tamanho] for i in range(0, len(lista), tamanho)]\n",
    "\n",
    "# Lista original\n",
    "lista_original = [12, 45, 23, 67, 78, 90, 45, 32, 100, 76, 38, 62, 73, 29, 83]\n",
    "print(\"Lista original:\")\n",
    "print(lista_original)\n",
    "\n",
    "while True:\n",
    "    try:\n",
    "        # Solicita ao usuário o tamanho para divisão\n",
    "        tamanho = int(input(\"\\nTamanho para divisão: \"))\n",
    "        if tamanho == 0:\n",
    "            print(\"Programa encerrado.\")\n",
    "            break\n",
    "        elif tamanho < 0:\n",
    "            print(\"Por favor, insira um número positivo.\")\n",
    "            continue\n",
    "\n",
    "        # Divide a lista e exibe as sublistas\n",
    "        sublistas = dividir_lista(lista_original, tamanho)\n",
    "        print(\"Sublistas:\")\n",
    "        print(sublistas)\n",
    "    except ValueError:\n",
    "        print(\"Entrada inválida. Insira um número inteiro.\")\n"
   ]
  },
  {
   "cell_type": "markdown",
   "id": "c65be32f",
   "metadata": {},
   "source": [
    "### Q7.\n",
    "\n",
    "Você está desenvolvendo um programa para determinar o vencedor de um jogo da velha. Escreva uma função ```avalia_tabuleiro()``` que recebe uma lista representando o estado atual do tabuleiro e determina se há um vencedor. \n",
    "\n",
    "A lista terá 3 sublistas, cada uma representando uma linha do tabuleiro. Cada elemento das sublistas pode ser 'X', 'O' ou vazio (' ').\n",
    "\n",
    "O programa deve imprimir o vencedor ('X', 'O'), se houver um, ou \"Empate\" se não houver vencedor. Um vencedor é determinado se houver três 'X' ou três 'O' em linha (horizontal, vertical ou diagonal).\n",
    "\n",
    "Exemplo:\n",
    "```python\n",
    "tabuleiro = [\n",
    "    ['X', 'O', 'X'],\n",
    "    [' ', 'X', 'O'],\n",
    "    ['O', ' ', 'O']\n",
    "]\n",
    "```\n",
    "O resultado seria \"Empate\", pois não há um vencedor no exemplo fornecido. \n",
    "\n",
    "Exemplo 2:\n",
    "```python\n",
    "tabuleiro = [\n",
    "    ['O', 'X', 'O'],\n",
    "    ['X', 'O', 'X'],\n",
    "    ['X', ' ', 'O']\n",
    "]\n",
    "```\n",
    "O resultado seria \"O\", pois 'O' venceu na diagonal central."
   ]
  },
  {
   "cell_type": "code",
   "execution_count": 18,
   "id": "720ca24d",
   "metadata": {},
   "outputs": [
    {
     "name": "stdout",
     "output_type": "stream",
     "text": [
      "Empate\n",
      "O\n",
      "X\n"
     ]
    }
   ],
   "source": [
    " # Implemente sua solução aqui\n",
    "def avalia_tabuleiro(tabuleiro):\n",
    "    \n",
    "        # Verifica linhas\n",
    "    for linha in tabuleiro:\n",
    "        if linha[0] == linha[1] == linha[2] and linha[0] != ' ':\n",
    "            return linha[0]\n",
    "\n",
    "    # Verifica colunas\n",
    "    for col in range(3):\n",
    "        if tabuleiro[0][col] == tabuleiro[1][col] == tabuleiro[2][col] and tabuleiro[0][col] != ' ':\n",
    "            return tabuleiro[0][col]\n",
    "\n",
    "    # Verifica diagonais\n",
    "    if tabuleiro[0][0] == tabuleiro[1][1] == tabuleiro[2][2] and tabuleiro[0][0] != ' ':\n",
    "        return tabuleiro[0][0]\n",
    "    if tabuleiro[0][2] == tabuleiro[1][1] == tabuleiro[2][0] and tabuleiro[0][2] != ' ':\n",
    "        return tabuleiro[0][2]\n",
    "\n",
    "    # Se ninguém venceu\n",
    "    return \"Empate\"\n",
    "\n",
    "\n",
    "# Exemplos de uso\n",
    "tabuleiro1 = [\n",
    "    ['X', 'O', 'X'],\n",
    "    [' ', 'X', 'O'],\n",
    "    ['O', ' ', 'O']\n",
    "]\n",
    "print(avalia_tabuleiro(tabuleiro1))  # Saída: \"Empate\"\n",
    "\n",
    "tabuleiro2 = [\n",
    "    ['O', 'X', 'O'],\n",
    "    ['X', 'O', 'X'],\n",
    "    ['X', ' ', 'O']\n",
    "]\n",
    "print(avalia_tabuleiro(tabuleiro2))  # Saída: \"O\"\n",
    "\n",
    "tabuleiro3 = [\n",
    "    ['X', 'O', 'X'],\n",
    "    ['O', 'X', 'O'],\n",
    "    ['X', 'O', 'X']\n",
    "]\n",
    "print(avalia_tabuleiro(tabuleiro3))  # Saída: \"X\""
   ]
  }
 ],
 "metadata": {
  "kernelspec": {
   "display_name": "Python 3",
   "language": "python",
   "name": "python3"
  },
  "language_info": {
   "codemirror_mode": {
    "name": "ipython",
    "version": 3
   },
   "file_extension": ".py",
   "mimetype": "text/x-python",
   "name": "python",
   "nbconvert_exporter": "python",
   "pygments_lexer": "ipython3",
   "version": "3.12.2"
  }
 },
 "nbformat": 4,
 "nbformat_minor": 5
}
