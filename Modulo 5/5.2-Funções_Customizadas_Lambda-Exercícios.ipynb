{
 "cells": [
  {
   "cell_type": "markdown",
   "id": "cbdff5a5",
   "metadata": {},
   "source": [
    "# Módulo 5 - Funções\n",
    "\n",
    "## Aulas 5.2 - Funções Customizadas e 5.4 Funções ```lambda```"
   ]
  },
  {
   "cell_type": "markdown",
   "id": "28a3fee2",
   "metadata": {},
   "source": [
    "### Q1.\n",
    "\n",
    "- Sabendo que o código a seguir calcula o fatorial de n, escreva uma função chamada ```fatorial()``` que recebe um inteiro ```n``` como parâmetro e retorna o resultado do fatorial de ```n```. \n",
    "- No programa principal, peça ao usuário o valor de ```n```, chame a sua função e imprima o retorno.\n",
    "\n",
    "```python\n",
    "fat = 1\n",
    "for i in range(1, n+1):\n",
    "    fat *= i \n",
    "```"
   ]
  },
  {
   "cell_type": "code",
   "execution_count": 21,
   "id": "d126b3a5",
   "metadata": {},
   "outputs": [],
   "source": [
    "## Crie aqui a função fatorial()\n",
    "## lembre-se de executar a célula para que \n",
    "## a função passe a existir e possa ser chamada\n",
    "def fatorial(n):\n",
    "    fat = 1\n",
    "    for i in range(1, n + 1):     \n",
    "        fat = fat * i   \n",
    "    return fat          \n",
    "\n"
   ]
  },
  {
   "cell_type": "code",
   "execution_count": 22,
   "id": "6e4fe64e",
   "metadata": {},
   "outputs": [
    {
     "name": "stdout",
     "output_type": "stream",
     "text": [
      "O fatorial de 10 é 3628800\n"
     ]
    }
   ],
   "source": [
    "## Escreva aqui o programa principal e execute a célula\n",
    "def fatorial(n):\n",
    "    fat = 1\n",
    "    for i in range(1, n + 1):     \n",
    "        fat = fat * i   \n",
    "    return fat \n",
    "\n",
    "n = int (input(\"Digite um número inteiro para calcular o fatorial:\"))\n",
    "resultado = fatorial (n)\n",
    "print (f\"O fatorial de {n} é {resultado}\")\n"
   ]
  },
  {
   "cell_type": "markdown",
   "id": "c0a1f599",
   "metadata": {},
   "source": [
    "### Q2.\n",
    "\n",
    "- Escreva uma função em Python chamada ```soma_quadrados``` que recebe dois números como parâmetros e retorna a soma dos seus quadrados. \n",
    "- No programa principal solicite ao usuário que insira dois números e utilize a função para exibir a soma dos quadrados."
   ]
  },
  {
   "cell_type": "code",
   "execution_count": 24,
   "id": "6dbddaad",
   "metadata": {},
   "outputs": [],
   "source": [
    "## Crie aqui a função soma_quadrados()\n",
    "def soma_quadrados(n1, n2):\n",
    "    resultado = n1 ** 2 + n2 ** 2\n",
    "    return resultado\n"
   ]
  },
  {
   "cell_type": "code",
   "execution_count": null,
   "id": "9175a7da",
   "metadata": {},
   "outputs": [
    {
     "name": "stdout",
     "output_type": "stream",
     "text": [
      "A soma dos quadrados dos números inseridos é: 800.0\n"
     ]
    }
   ],
   "source": [
    "## Escreva aqui o programa principal e execute a célula\n",
    "def soma_quadrados(n1, n2):\n",
    "    resultado = n1 ** 2 + n2 ** 2\n",
    "    return resultado\n",
    "#Programa principal\n",
    "num1 = float(input(\"Digite o primeiro número\"))\n",
    "num2 = float(input(\"Digite o segundo número\"))\n",
    "#Chama a função soma_quadrados e armazena o resultado\n",
    "soma = soma_quadrados(num1, num2)\n",
    "#exibe o resultado\n",
    "print(f\"A soma dos quadrados dos números inseridos é: {soma}\")"
   ]
  },
  {
   "cell_type": "markdown",
   "id": "6ba34ce0",
   "metadata": {},
   "source": [
    "### Q3.\n",
    "\n",
    "- Crie uma função em Python chamada ```soma_digitos``` que recebe um número inteiro como parâmetro e retorna a soma dos seus dígitos. Por exemplo, para o número 123, a função deve retornar 6, $(1 + 2 + 3)$.\n",
    "    - O desafio aqui é separar os dígitos de um número inteiro usando operações aritméticas <br> <br>\n",
    "\n",
    "- No programa principal solicite ao usuário que insira um número e utilize a função ```soma_digitos``` para calcular e exibir a soma dos seus dígitos."
   ]
  },
  {
   "cell_type": "code",
   "execution_count": 32,
   "id": "34838ebf",
   "metadata": {},
   "outputs": [],
   "source": [
    "## Crie aqui a função soma_digitos()\n",
    "def soma_digitos(n1, n2, n3):\n",
    "    resultado = n1 + n2 + n3\n",
    "    return resultado"
   ]
  },
  {
   "cell_type": "code",
   "execution_count": 3,
   "id": "27c35b21",
   "metadata": {},
   "outputs": [
    {
     "name": "stdout",
     "output_type": "stream",
     "text": [
      "A soma dos dígitos do número inserido é: 7\n"
     ]
    }
   ],
   "source": [
    "## Escreva aqui o programa principal e execute a célula\n",
    "### Crie aqui a função soma_digitos() O desafio aqui é separar os dígitos de um número inteiro usando operações aritméticas\n",
    "def soma_dígitos (n):\n",
    "    soma = 0    \n",
    "    while n > 0:    \n",
    "        digito = n % 10 #extrair o dígito\n",
    "        soma = soma + digito #soma os dígitos\n",
    "        n = n // 10 #descartar o ultimo dígito do número\n",
    "    return soma\n",
    "\n",
    "#Solicitar ao usuário que insira um número inteiro\n",
    "num = int(input(\"Digite um número inteiro: \"))\n",
    "\n",
    "#Calcular a soma dos dígitos\n",
    "soma = soma_dígitos(num)    \n",
    "\n",
    "#Exibir a soma dos dígitos  \n",
    "print(\"A soma dos dígitos do número inserido é:\", soma)\n"
   ]
  },
  {
   "cell_type": "markdown",
   "id": "c318b159",
   "metadata": {},
   "source": [
    "### Q4.\n",
    "\n",
    "- Crie a função ```inverteValor()``` que recebe um inteiro de qualquer tamanho e retorna esse valor invertido usando apenas operações aritméticas\n",
    "- Crie a função ```verificaInverso()``` que recebe o valor original e o valor invertido e retorna verdadeiro se ambos forem igualmente par ou igualmente ímpar. Retorne falso caso contrário.\n",
    "- No programa principal, peça um valor do usuário e imprima o retorno de ambas as funções.\n"
   ]
  },
  {
   "cell_type": "code",
   "execution_count": null,
   "id": "e4e47d1d",
   "metadata": {},
   "outputs": [],
   "source": [
    "## Crie aqui as funções inverteValor() e verificaInverso()\n",
    "def inverteValor(n):    \n",
    "    invertido = 0\n",
    "    while n > 0:\n",
    "        ultimo_digito = n % 10\n",
    "        invertido = invertido *10 + ultimo_digito\n",
    "        n = n // 10\n",
    "    return invertido\n",
    "\n",
    "#Função VerificaInverso\n",
    "def verificaInverso(valor_original, valor_invertido):\n",
    "    return valor_original % 2 == valor_invertido % 2\n"
   ]
  },
  {
   "cell_type": "code",
   "execution_count": 2,
   "id": "a9514e56",
   "metadata": {},
   "outputs": [
    {
     "name": "stdout",
     "output_type": "stream",
     "text": [
      "O inverso de 123 é 321 e são igualmente par ou impar? True\n"
     ]
    }
   ],
   "source": [
    "## Escreva aqui o programa principal e execute a célula\n",
    "def inverteValor(n):    \n",
    "    invertido = 0\n",
    "    while n > 0:\n",
    "        ultimo_digito = n % 10\n",
    "        invertido = invertido *10 + ultimo_digito\n",
    "        n = n // 10\n",
    "    return invertido\n",
    "\n",
    "def verificaInverso(valor_original, valor_invertido):\n",
    "    return valor_original % 2 == valor_invertido % 2\n",
    "\n",
    "original = int(input(\"Digite um número inteiro: \"))\n",
    "invertido = inverteValor(original)\n",
    "verificado = verificaInverso(original, invertido)\n",
    "print(f\"O inverso de {original} é {invertido} e são igualmente par ou impar? {verificado}\")"
   ]
  },
  {
   "cell_type": "markdown",
   "id": "329be966",
   "metadata": {},
   "source": [
    "### Q5.\n",
    "\n",
    "Você está desenvolvendo um programa para auxiliar em cálculos de geometria básica. Crie as seguintes funções:\n",
    "- A função ```calcula_perimetro_triangulo()``` que recebe três inteiros correspondentes aos lados de um triângulo e retorna o perímetro do triângulo, ou seja, a soma dos seus lados.\n",
    "- A função ```calcula_perimetro_circulo()``` que recebe um inteiro referente ao raio do círculo e retorna o perímetro do círculo, dado por $2 \\pi r$. Use a constante $\\pi$ da biblioteca ```math```.\n",
    "- A função ```calcula_perimetro_retangulo()``` que possui um parâmetro obrigatório ```lado1``` e um opcional ```lado2```, ambos inteiros. Se o valor opcional não for fornecido, significa que se trata de um quadrado. Sua função deve calcular e retornar o perímetro do retângulo, ou seja, a soma de seus lados. \n",
    "    - Para o quadrado, é dado por $4 \\times lado1$\n",
    "    - Para o retângulo é dado por $2 \\times lado1 + 2 \\times lado2$\n",
    "    \n",
    "- No programa principal apresente um menu com as opções disponíveis do seu sistema e uma quarta opção ```Sair```. Solicite ao usuário a opção desejada, solicite as entradas correspondentes à opção escolhida, invoque a respective função e apresente o seu retorno. Seu programa deve retornar ao menu até que o usuário escolha a opção ```Sair```\n",
    "\n",
    "Exemplo de interação:\n",
    "```\n",
    "1 - Calcular perímetro triângulo\n",
    "2 - Calcular perímetro círculo\n",
    "3 - Calcular perímetro retângulo\n",
    "4 - Sair\n",
    "\n",
    "Opção: 1\n",
    "Digite os três lados do triângulo:\n",
    "3\n",
    "4\n",
    "5\n",
    "O perímetro é: 12\n",
    "\n",
    "1 - Calcular perímetro triângulo\n",
    "2 - Calcular perímetro círculo\n",
    "3 - Calcular perímetro retângulo\n",
    "4 - Sair\n",
    "\n",
    "Opção: 3\n",
    "Informe os dois lados do retângulo. Se for um quadrado, digite 0 para o segundo valor:\n",
    "5\n",
    "0\n",
    "O perímetro é: 20\n",
    "\n",
    "1 - Calcular perímetro triângulo\n",
    "2 - Calcular perímetro círculo\n",
    "3 - Calcular perímetro retângulo\n",
    "4 - Sair\n",
    "\n",
    "Opção: 4\n",
    "```"
   ]
  },
  {
   "cell_type": "code",
   "execution_count": null,
   "id": "0793d328",
   "metadata": {},
   "outputs": [],
   "source": [
    "## Crie aqui as funções \n",
    "import math\n",
    "\n",
    "def calcula_perimetro_triangulo(lado1, lado2, lado3):\n",
    "    perimetro = lado1 + lado2 + lado3\n",
    "    return perimetro    \n",
    "\n",
    "#Crie aqui a função calcula_perimetro_circulo() \n",
    "def calcula_perimetro_circulo(raio):\n",
    "    perimetro = 2 * math.pi * raio\n",
    "    return perimetro        \n",
    "\n",
    "#Crie aqui a função calcula_perimetro_retangulo()\n",
    "def calcula_perimetro_retangulo(lado1, lado2 = 0):\n",
    "    if lado2 == 0:\n",
    "        perimetro = 4 * lado1\n",
    "    else:\n",
    "        perimetro = 2 * lado1 + 2 * lado2\n",
    "    return perimetro        \n"
   ]
  },
  {
   "cell_type": "code",
   "execution_count": 5,
   "id": "36269c71",
   "metadata": {},
   "outputs": [
    {
     "name": "stdout",
     "output_type": "stream",
     "text": [
      "Selecione uma opção:\n",
      "1 - Triângulo\n",
      "2 - Círculo\n",
      "3 - Retângulo\n",
      "4 - Sair\n",
      "Perimetro é: 12\n",
      "Selecione uma opção:\n",
      "1 - Triângulo\n",
      "2 - Círculo\n",
      "3 - Retângulo\n",
      "4 - Sair\n",
      "Informe os dois lados do retângulo. Se for um quadrado, digite 0 para o segundo valor:\n",
      "O Perimetro é: 20\n",
      "Selecione uma opção:\n",
      "1 - Triângulo\n",
      "2 - Círculo\n",
      "3 - Retângulo\n",
      "4 - Sair\n",
      "Saindo...\n"
     ]
    }
   ],
   "source": [
    "## Escreva aqui o programa principal \n",
    "import math\n",
    "\n",
    "def calcula_perimetro_triangulo(lado1, lado2, lado3):\n",
    "    perimetro = lado1 + lado2 + lado3\n",
    "    return perimetro    \n",
    "\n",
    "#Crie aqui a função calcula_perimetro_circulo() \n",
    "def calcula_perimetro_circulo(raio):\n",
    "    perimetro = 2 * math.pi * raio\n",
    "    return perimetro        \n",
    "\n",
    "#Crie aqui a função calcula_perimetro_retangulo()\n",
    "def calcula_perimetro_retangulo(lado1, lado2 = 0):\n",
    "    if lado2 == 0:\n",
    "        perimetro = 4 * lado1\n",
    "    else:\n",
    "        perimetro = 2 * lado1 + 2 * lado2\n",
    "    return perimetro        \n",
    "\n",
    "#Crie aqui o programa principal \n",
    "while True:\n",
    "    print(\"Selecione uma opção:\")\n",
    "    print(\"1 - Triângulo\")\n",
    "    print(\"2 - Círculo\")\n",
    "    print(\"3 - Retângulo\")\n",
    "    print(\"4 - Sair\")\n",
    "    opcao = int(input())\n",
    "    if opcao == 1:\n",
    "        lado1 = int(input(\"Lado 1: \"))\n",
    "        lado2 = int(input(\"Lado 2: \"))\n",
    "        lado3 = int(input(\"Lado 3: \"))\n",
    "        perimetro = calcula_perimetro_triangulo(lado1, lado2, lado3)\n",
    "        print(\"Perimetro é:\", perimetro)\n",
    "    elif opcao == 2:\n",
    "        raio = int(input(\"Raio: \"))\n",
    "        perimetro = calcula_perimetro_circulo(raio)\n",
    "        print(\"Perimetro:\", perimetro)\n",
    "    elif opcao == 3:\n",
    "        print(\"Informe os dois lados do retângulo. Se for um quadrado, digite 0 para o segundo valor:\")\n",
    "        lado1 = int(input(\"Lado 1: \"))\n",
    "        lado2 = int(input(\"Lado 2: \"))        \n",
    "        perimetro = calcula_perimetro_retangulo(lado1, lado2)\n",
    "        print(\"O Perimetro é:\", perimetro)\n",
    "    elif opcao == 4:\n",
    "        print(\"Saindo...\")\n",
    "        break\n",
    "    else:\n",
    "        print(\"Opção inválida.\")  "
   ]
  },
  {
   "cell_type": "markdown",
   "id": "3016bcc7",
   "metadata": {},
   "source": [
    "## Funções ```lambda```"
   ]
  },
  {
   "cell_type": "markdown",
   "id": "f9cdb8dd",
   "metadata": {},
   "source": [
    "### Q6.\n",
    "\n",
    "Crie uma função lambda para verificar se um número é par ou ímpar. Em seguida, solicite ao usuário um número indefinidos de valores (até que o usuário digite 0). Para cada valor de entrada, informe se é par ou ímpar.\n",
    "\n",
    "Exemplo de interação:\n",
    "```\n",
    "Digite os valores que deseja verificar a paridade (digite 0 para finalizar a entrada de dados):\n",
    "3\n",
    "ímpar\n",
    "8\n",
    "par\n",
    "12\n",
    "par\n",
    "5\n",
    "ímpar\n",
    "7ímpar\n",
    "```"
   ]
  },
  {
   "cell_type": "code",
   "execution_count": 6,
   "id": "e3c31a78",
   "metadata": {},
   "outputs": [
    {
     "name": "stdout",
     "output_type": "stream",
     "text": [
      "ímpar\n",
      "par\n",
      "par\n",
      "ímpar\n",
      "ímpar\n"
     ]
    }
   ],
   "source": [
    "#Função para verificar se um número é par ou ímpar\n",
    "par_impar = lambda x: \"par\" if x % 2 == 0 else \"ímpar\"\n",
    "\n",
    "#Solicita ao usuário um número indefinidos de valores (até que o usuário digite 0)\n",
    "while True:\n",
    "    num = int(input(\"Digite um número (0 para encerrar): \"))\n",
    "    if num == 0:\n",
    "        break   \n",
    "    print(par_impar(num))   "
   ]
  },
  {
   "cell_type": "markdown",
   "id": "5a87474d",
   "metadata": {},
   "source": [
    "### Q7.\n",
    "\n",
    "Escreva um programa que pergunte ao usuário qual operação ele deseja: maior ou menor.\n",
    "Em seguida leia uma quantidade indefinida de valores do usuário, até que o usuário digite o valor zero.\n",
    "Apresente ao final o maior ou menor dos valores digitados de acordo com a escolha do usuário.\n",
    "\n",
    "**Sua solução deve incluir pelo menos uma função ```lambda```** \n",
    "\n",
    "Exemplo de interação:\n",
    "```\n",
    "Opções: (1) maior ou (2) menor?\n",
    "Opção: 1\n",
    "\n",
    "Digite os valores de entrada. Digite 0 para finalizar a entrada de valores.\n",
    "4\n",
    "12\n",
    "15\n",
    "1\n",
    "0\n",
    "\n",
    "O maior valor é: 15\n",
    "```"
   ]
  },
  {
   "cell_type": "code",
   "execution_count": 1,
   "id": "ee3f68ca",
   "metadata": {},
   "outputs": [
    {
     "name": "stdout",
     "output_type": "stream",
     "text": [
      "O maior valor é: 15\n"
     ]
    }
   ],
   "source": [
    "## Escreva aqui o programa principal \n",
    "#Crie aqui sua função lambda\n",
    "encontrar_maior = lambda x, y: x if x > y else y\n",
    "encontrar_menor = lambda x, y: x if x < y else y\n",
    "\n",
    "#Solicite ao usuário qual operação ele deseja: maior ou menor\n",
    "opcao = int(input(\"Opções: (1) maior ou (2) menor? \"))  \n",
    "#Leia uma quantidade indefinida de valores do usuário, até que o usuário digite o valor zero\n",
    "valores = []\n",
    "while True:     \n",
    "    valor = int(input(\"Digite os valores de entrada. Digite 0 para finalizar a entrada de valores. \"))\n",
    "    if valor == 0:\n",
    "        break\n",
    "    valores.append(valor)\n",
    "#Apresente ao final o maior ou menor dos valores digitados de acordo com a escolha do usuário\n",
    "print(\"O maior valor é:\", max(valores) if opcao == 1 else min(valores))"
   ]
  }
 ],
 "metadata": {
  "kernelspec": {
   "display_name": "Python 3",
   "language": "python",
   "name": "python3"
  },
  "language_info": {
   "codemirror_mode": {
    "name": "ipython",
    "version": 3
   },
   "file_extension": ".py",
   "mimetype": "text/x-python",
   "name": "python",
   "nbconvert_exporter": "python",
   "pygments_lexer": "ipython3",
   "version": "3.12.2"
  }
 },
 "nbformat": 4,
 "nbformat_minor": 5
}
