{
 "cells": [
  {
   "cell_type": "markdown",
   "id": "0d5035b5",
   "metadata": {},
   "source": [
    "# Tupla\n",
    "\n",
    "## Aula 8.2"
   ]
  },
  {
   "cell_type": "markdown",
   "id": "0bdece85",
   "metadata": {},
   "source": [
    "### Q1. \n",
    "\n",
    "Escreva uma função ```calcula_area_perimetro``` que recebe **apenas um parâmetro** ```dimensoes``` e calcula a área e o perímetro a partir das dimensões dadas. \n",
    "- ```dimensoes``` é uma tupla (largura, comprimento) com as dimensões de um terreno retangular\n",
    "- Sua função deve calcular e retornar as seguintes operações\n",
    "   - $area = largura \\times comprimento$\n",
    "   - $perimetro = 2\\times(largura + comprimento)$\n"
   ]
  },
  {
   "cell_type": "code",
   "execution_count": null,
   "id": "0a258eba",
   "metadata": {},
   "outputs": [],
   "source": [
    "# Implemente aqui a função calcula_area_perimetro\n",
    "def calcula_area_perimetro(dimensoes):\n",
    "    largura, comprimento = dimensoes\n",
    "    area = largura * comprimento\n",
    "    perimetro = 2 * (largura + comprimento)\n",
    "    return area, perimetro"
   ]
  },
  {
   "cell_type": "code",
   "execution_count": null,
   "id": "e1866c04",
   "metadata": {},
   "outputs": [
    {
     "name": "stdout",
     "output_type": "stream",
     "text": [
      "(35, 24) <class 'tuple'>\n"
     ]
    }
   ],
   "source": [
    "# Complete o exemplo de uso abaixo\n",
    "largura = 5\n",
    "comprimento = 7\n",
    "\n",
    "dimensoes = (largura, comprimento) ## complete aqui a chamada da função\n",
    "retorno = calcula_area_perimetro(dimensoes) # complete aqui a chamada da função\n",
    "print(retorno, type(retorno))"
   ]
  },
  {
   "cell_type": "markdown",
   "id": "cbdcb986",
   "metadata": {},
   "source": [
    "### Q2.\n",
    "\n",
    "Dada uma string, imprima todas as vogais que aparecem na string, bem como todos os índices onde elas ocorrem. Para isso, use a função ```enumerate```.\n"
   ]
  },
  {
   "cell_type": "code",
   "execution_count": null,
   "id": "1f6b1f2d",
   "metadata": {},
   "outputs": [
    {
     "name": "stdout",
     "output_type": "stream",
     "text": [
      "Vogal 'O' encontrada na posicao 0\n",
      "Vogal 'a' encontrada na posicao 3\n",
      "Vogal 'o' encontrada na posicao 5\n",
      "Vogal 'o' encontrada na posicao 8\n",
      "Vogal 'e' encontrada na posicao 9\n",
      "Vogal 'u' encontrada na posicao 10\n",
      "Vogal 'a' encontrada na posicao 12\n",
      "Vogal 'o' encontrada na posicao 15\n",
      "Vogal 'u' encontrada na posicao 16\n",
      "Vogal 'a' encontrada na posicao 18\n",
      "Vogal 'a' encontrada na posicao 21\n",
      "Vogal 'A' encontrada na posicao 23\n",
      "Vogal 'i' encontrada na posicao 25\n",
      "Vogal 'e' encontrada na posicao 27\n"
     ]
    }
   ],
   "source": [
    "frase = \"O rato roeu a roupa da Alice\"\n",
    "\n",
    "# Implemente aqui sua solução\n",
    "#lista de vogais considerando maiusculas e minusculas\n",
    "vogais = \"aeiouAEIOU\"\n",
    "\n",
    "#iterando a frase com enumerate\n",
    "for indice, caractere in enumerate(frase):\n",
    "    if caractere in vogais: #verificando se a letra eh vogal\n",
    "        print(f\"Vogal '{caractere}' encontrada na posicao {indice}\")"
   ]
  },
  {
   "cell_type": "markdown",
   "id": "8d46663f",
   "metadata": {},
   "source": [
    "### Q3.\n",
    "\n",
    "Escreva uma função em Python chamada ```ordenar_tuplas``` que recebe uma lista de tuplas, cada uma contendo o nome de um aluno e sua respectiva média, e retorna uma nova lista ordenada em ordem decrescente de médias."
   ]
  },
  {
   "cell_type": "code",
   "execution_count": null,
   "id": "469f2e6e",
   "metadata": {},
   "outputs": [
    {
     "name": "stdout",
     "output_type": "stream",
     "text": [
      "[('Charlie', 9.0), ('David', 8.8), ('Alice', 8.5), ('Bob', 7.2)]\n"
     ]
    }
   ],
   "source": [
    "# Implemente aqui a função ordenar_tuplas\n",
    "def ordenar_tuplas(alunos_notas):\n",
    "    # Ordena a lista de tuplas com base no segundo elemento (média) em ordem decrescente\n",
    "    return sorted(alunos_notas, key=lambda x: x[1], reverse=True)\n",
    "\n",
    "# Exemplo de uso\n",
    "alunos_notas = [('Alice', 8.5), ('Bob', 7.2), ('Charlie', 9.0), ('David', 8.8)]\n",
    "resultado = ordenar_tuplas(alunos_notas)\n",
    "print(resultado)"
   ]
  },
  {
   "cell_type": "code",
   "execution_count": null,
   "id": "1972c62b",
   "metadata": {},
   "outputs": [
    {
     "name": "stdout",
     "output_type": "stream",
     "text": [
      "[('Charlie', 9.0), ('David', 8.8), ('Alice', 8.5), ('Bob', 7.2)]\n"
     ]
    }
   ],
   "source": [
    "# Exemplo de uso:\n",
    "alunos_notas = [('Alice', 8.5), ('Bob', 7.2), ('Charlie', 9.0), ('David', 8.8)]\n",
    "resultado = ordenar_tuplas(alunos_notas)\n",
    "print(resultado)\n",
    "# Saída esperada: [('Charlie', 9.0), ('David', 8.8), ('Alice', 8.5), ('Bob', 7.2)]"
   ]
  },
  {
   "cell_type": "markdown",
   "id": "e0268fae",
   "metadata": {},
   "source": [
    "### Q4.\n",
    "\n",
    "Escreva uma função em Python chamada ```comprimir_tuplas``` que recebe uma lista de tuplas, cada uma contendo uma palavra e um número, e retorna uma nova lista de tuplas onde palavras idênticas são agrupadas e seus números são somados.\n",
    "\n"
   ]
  },
  {
   "cell_type": "code",
   "execution_count": null,
   "id": "30a221f3",
   "metadata": {},
   "outputs": [
    {
     "name": "stdout",
     "output_type": "stream",
     "text": [
      "[('maçã', 8), ('banana', 5), ('laranja', 1)]\n"
     ]
    }
   ],
   "source": [
    "# Implemente aqui a função comprimir_tuplas\n",
    "def comprimir_tuplas(tuplas_originais):\n",
    "    # Dicionário para armazenar a soma dos números por palavra\n",
    "    soma_por_palavra = {}\n",
    "\n",
    "    # Itera sobre cada tupla na lista\n",
    "    for palavra, numero in tuplas_originais:\n",
    "        if palavra in soma_por_palavra:\n",
    "            soma_por_palavra[palavra] += numero  # Soma o número à palavra existente\n",
    "        else:\n",
    "            soma_por_palavra[palavra] = numero  # Adiciona a palavra ao dicionário\n",
    "\n",
    "    # Converte o dicionário de volta para uma lista de tuplas\n",
    "    return list(soma_por_palavra.items())\n",
    "\n",
    "tuplas_originais = [('maçã', 3), ('banana', 2), ('maçã', 5), ('laranja', 1), ('banana', 3)]\n",
    "resultado = comprimir_tuplas(tuplas_originais)\n",
    "print(resultado)"
   ]
  },
  {
   "cell_type": "code",
   "execution_count": null,
   "id": "80972bac",
   "metadata": {},
   "outputs": [],
   "source": [
    "# Exemplo de uso:\n",
    "tuplas_originais = [('maçã', 3), ('banana', 2), ('maçã', 5), ('laranja', 1), ('banana', 3)]\n",
    "resultado = comprimir_tuplas(tuplas_originais)\n",
    "print(resultado)\n",
    "# Saída esperada: [('maçã', 8), ('banana', 5), ('laranja', 1)]"
   ]
  },
  {
   "cell_type": "markdown",
   "id": "649a5082",
   "metadata": {},
   "source": [
    "### Q5. \n",
    "\n",
    "- Escreva um script que peça o nome e a idade de todos na fila de uma balada. Crie uma lista de tuplas com os pares ```(nome, idade)``` de cada um. \n",
    "- Em seguida crie e imprima duas tuplas apenas com os nomes, uma com os menores de idade que não poderão entrar, e uma com os maiores de idade (```idade >= 18```). \n",
    "\n"
   ]
  },
  {
   "cell_type": "code",
   "execution_count": null,
   "id": "d2b3d936",
   "metadata": {},
   "outputs": [],
   "source": [
    "## Implemente aqui sua solução\n",
    "# Lista para armazenar os pares (nome, idade)\n",
    "fila_balada = []\n",
    "\n",
    "# Loop para coletar os dados das pessoas na fila\n",
    "while True:\n",
    "    nome = input(\"Digite o nome da pessoa (ou 'sair' para encerrar): \")\n",
    "    if nome.lower() == 'sair':  # Condição para sair do loop\n",
    "        break\n",
    "\n",
    "    # Loop para garantir que a idade seja válida\n",
    "    while True:\n",
    "        idade_input = input(\"Digite a idade da pessoa: \")\n",
    "        if idade_input.strip():  # Verifica se a entrada não está vazia\n",
    "            try:\n",
    "                idade = int(idade_input)  # Tenta converter para inteiro\n",
    "                break  # Sai do loop se a conversão for bem-sucedida\n",
    "            except ValueError:\n",
    "                print(\"Idade inválida! Digite um número inteiro.\")\n",
    "        else:\n",
    "            print(\"Idade não pode estar vazia! Tente novamente.\")\n",
    "\n",
    "    fila_balada.append((nome, idade))  # Adiciona a tupla (nome, idade) à lista\n",
    "\n",
    "# Separa os nomes em duas listas: menores de idade e maiores de idade\n",
    "menores = tuple(nome for nome, idade in fila_balada if idade < 18)\n",
    "maiores = tuple(nome for nome, idade in fila_balada if idade >= 18)\n",
    "\n",
    "# Imprime os resultados\n",
    "print(\"\\nPessoas na fila:\", fila_balada)\n",
    "print(\"Menores de idade que não podem entrar:\", menores)\n",
    "print(\"Maiores de idade que podem entrar:\", maiores)"
   ]
  }
 ],
 "metadata": {
  "kernelspec": {
   "display_name": "Python 3",
   "language": "python",
   "name": "python3"
  },
  "language_info": {
   "codemirror_mode": {
    "name": "ipython",
    "version": 3
   },
   "file_extension": ".py",
   "mimetype": "text/x-python",
   "name": "python",
   "nbconvert_exporter": "python",
   "pygments_lexer": "ipython3",
   "version": "3.12.2"
  }
 },
 "nbformat": 4,
 "nbformat_minor": 5
}
