{
  "cells": [
    {
      "cell_type": "markdown",
      "metadata": {
        "id": "1pCTdOHonv5f"
      },
      "source": [
        "# Módulo 2\n",
        "\n",
        "## 2.3 Instruções e Expressões\n",
        "\n",
        "### Q1\n",
        "\n",
        "Faça um programa que armazene o valor de 20 reais de salário por hora de um trabalhador, e o número de 40 horas trabalhadas na semana. Com essas informações, calcule e imprima:\n",
        "- Salário semanal bruto\n",
        "- Valor descontado por semana INSS (10% do bruto)\n",
        "- Valor descontado por semana pelo sindicato (5% do bruto)\n",
        "- Salário semanal líquido (Bruto - Descontos)"
      ]
    },
    {
      "cell_type": "code",
      "execution_count": 4,
      "metadata": {
        "id": "hVbX0I97nj6M"
      },
      "outputs": [
        {
          "name": "stdout",
          "output_type": "stream",
          "text": [
            "Salário semanal bruto 800\n",
            "Desconto Inss 80.0\n",
            "Desconto Sindicato 40.0\n",
            "Salário semanal líquido 680.0\n"
          ]
        }
      ],
      "source": [
        "## Escreva e execute seu código aqui\n",
        "Salario_hora = 20\n",
        "horas_trabalhadas = 40\n",
        "\n",
        "#calculo salário semanal bruto\n",
        "salario_bruto = Salario_hora * horas_trabalhadas\n",
        "\n",
        "#Calculo de descontos\n",
        "desconto_inss = 0.10 *salario_bruto\n",
        "desconto_sindicato = 0.05 * salario_bruto\n",
        "\n",
        "#calculo de salário liquido\n",
        "salario_liquido = salario_bruto - (desconto_inss + desconto_sindicato)\n",
        "\n",
        "#imprimir resultados\n",
        "print (\"Salário semanal bruto\", salario_bruto)\n",
        "print (\"Desconto Inss\", desconto_inss)\n",
        "print (\"Desconto Sindicato\", desconto_sindicato)\n",
        "print (\"Salário semanal líquido\", salario_liquido)"
      ]
    },
    {
      "cell_type": "markdown",
      "metadata": {
        "id": "pIxKX9J2oGZ1"
      },
      "source": [
        "### Q2\n",
        "\n",
        "Altere o programa anterior para a partir dos valores de horas trabalhadas por semana e salário por hora, calcular **em somente duas instruções**:\n",
        "- Salário semanal bruto\n",
        "- Salário semanal líquido com todos os descontos. Para a segunda instrução, realize todos os cálculos aritméticos em uma expressão composta.\n"
      ]
    },
    {
      "cell_type": "code",
      "execution_count": 5,
      "metadata": {
        "id": "pAHw9Xf9oGoi"
      },
      "outputs": [
        {
          "name": "stdout",
          "output_type": "stream",
          "text": [
            "Salário semanal bruto 800\n",
            "Salário semanal liquído 680.0\n"
          ]
        }
      ],
      "source": [
        "## Escreva e execute seu código aqui\n",
        "Salario_hora = 20\n",
        "horas_trabalhadas = 40\n",
        "\n",
        "#calculo semanal bruto\n",
        "salario_bruto = Salario_hora * horas_trabalhadas\n",
        "\n",
        "\n",
        "#salario liquido em expressão unica\n",
        "salario_liquido = salario_bruto - (0.10 * salario_bruto + 0.05 * salario_bruto)\n",
        "\n",
        "#impressão dos resultados\n",
        "\n",
        "print (\"Salário semanal bruto\", salario_bruto)\n",
        "print (\"Salário semanal liquído\", salario_liquido)\n"
      ]
    },
    {
      "cell_type": "markdown",
      "metadata": {
        "id": "m8tlHRuWpBOB"
      },
      "source": [
        "### Q3\n",
        "\n",
        "Você está desenvolvendo um software de conversão de moeda e precisa calcular o valor equivalente em yuan chinês a partir de uma quantia em real. A taxa de câmbio é de 0.69 BRL (real) para 1 CNY (yuan). Escreva um programa que define em uma variável uma quantia em reais (BRL) e calcula o valor equivalente em yuan (CNY). Imprima o resultado."
      ]
    },
    {
      "cell_type": "code",
      "execution_count": 7,
      "metadata": {
        "id": "2bPw7uF6oeL9"
      },
      "outputs": [
        {
          "name": "stdout",
          "output_type": "stream",
          "text": [
            "valor em reais: 100\n",
            "Valor convertido é 144.92753623188406\n"
          ]
        }
      ],
      "source": [
        "\n",
        "# valor em reais\n",
        "quantia_brl = 100\n",
        "\n",
        "#taxa de câmbio\n",
        "taxa_cambio = 0.69\n",
        "\n",
        "#calculo de valor em Yuan\n",
        "valor_de_yuan = quantia_brl / taxa_cambio\n",
        "\n",
        "print (\"valor em reais:\", quantia_brl)\n",
        "print (\"Valor convertido é\", valor_de_yuan)"
      ]
    },
    {
      "cell_type": "markdown",
      "metadata": {
        "id": "-Na3ltDCp74A"
      },
      "source": [
        "### Q4\n",
        "\n",
        "Você é um treinador de corrida e deseja calcular a velocidade média que um atleta precisa manter para completar a Maratona Internacional de São Silvestre, que tem uma distância total de 42.195 km. A fórmula para calcular a velocidade média ($v\\_media$) é dada por $v\\_media = \\frac{distancia}{tempo}$ . Escreva um programa em Python para calcular a velocidade média necessária para completar a maratona em 3 horas.\n",
        "\n",
        "**Calcule e imprima o resultado em metros/segundo**, ou seja, converta a distância de quilômetros para metros ($metro = \\frac{km}{1000}$) e a velocidade de horas para segundos $(segundo = \\frac{hora}{3600})$."
      ]
    },
    {
      "cell_type": "code",
      "execution_count": 8,
      "metadata": {
        "id": "Bn6l8kcSrE4L"
      },
      "outputs": [
        {
          "name": "stdout",
          "output_type": "stream",
          "text": [
            "Velocidade média necessária: 3.9069444444444446\n"
          ]
        }
      ],
      "source": [
        "\n",
        "#Distância da maratona em quilômetros\n",
        "distancia_km = 42.195\n",
        "\n",
        "#Distância em metros\n",
        "distancia_metros = distancia_km * 1000\n",
        "\n",
        "#Horas\n",
        "tempo_horas = 3\n",
        "\n",
        "#tempo em segundos\n",
        "tempo_segundos = tempo_horas * 3600\n",
        "\n",
        "#velocidade média\n",
        "velocidade_media = distancia_metros / tempo_segundos\n",
        "\n",
        "print (\"Velocidade média necessária:\", velocidade_media)\n",
        "\n"
      ]
    }
  ],
  "metadata": {
    "colab": {
      "provenance": []
    },
    "kernelspec": {
      "display_name": "Python 3",
      "name": "python3"
    },
    "language_info": {
      "codemirror_mode": {
        "name": "ipython",
        "version": 3
      },
      "file_extension": ".py",
      "mimetype": "text/x-python",
      "name": "python",
      "nbconvert_exporter": "python",
      "pygments_lexer": "ipython3",
      "version": "3.12.3"
    }
  },
  "nbformat": 4,
  "nbformat_minor": 0
}
